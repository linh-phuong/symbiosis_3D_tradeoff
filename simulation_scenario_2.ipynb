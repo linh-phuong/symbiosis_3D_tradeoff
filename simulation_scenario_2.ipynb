{
 "cells": [
  {
   "cell_type": "code",
   "execution_count": null,
   "id": "4e2a605d",
   "metadata": {},
   "outputs": [],
   "source": [
    "import numpy as np\n",
    "import matplotlib.pylab as plt\n",
    "from tools import Config\n",
    "from tools_evo_dyn import tau_leap_symbiosis_mutation\n",
    "import pandas as pd\n",
    "import pickle"
   ]
  },
  {
   "cell_type": "code",
   "execution_count": 2,
   "id": "f0402ded",
   "metadata": {},
   "outputs": [],
   "source": [
    "cg_evo_1 =  Config(dict(eta = 4., g = 0.312, mu = 1.4, alpha = 1.2, gamma = 1.23, p = 0.1, beta = 2.1,\n",
    "                        r = 2.3, d = 1.3, theta = 8., v = 4., h = 0.382, nu_max = 3))"
   ]
  },
  {
   "cell_type": "code",
   "execution_count": null,
   "id": "8a2bd9a8",
   "metadata": {},
   "outputs": [
    {
     "name": "stdout",
     "output_type": "stream",
     "text": [
      "Simulation stop at time step 1404399 as total Fs = 677.0, total As = 13.0, Hs = 0.0\n"
     ]
    }
   ],
   "source": [
    "np.random.seed(125)\n",
    "V = 2000\n",
    "init = np.array([0.1, 1., 0.2])\n",
    "ds_1 = tau_leap_symbiosis_mutation(pop_init = init * V, Tmax = 8000000, dt = 1, cg = cg_evo_1, V = V, \n",
    "                                         trait_init = np.array([3, -0.5]), sigma_rho = 0.1, sigma_nu = 0.1, \n",
    "                                         mutant_rate = 0.001, step = 8000)"
   ]
  },
  {
   "cell_type": "code",
   "execution_count": 30,
   "id": "d21a0a49",
   "metadata": {},
   "outputs": [],
   "source": [
    "with open(\"data_evol_traject/ds1_scenario2_exp.pkl\", \"wb\") as f:\n",
    "    pickle.dump(ds_1, f)"
   ]
  },
  {
   "cell_type": "code",
   "execution_count": null,
   "id": "0b0a867c",
   "metadata": {},
   "outputs": [],
   "source": [
    "np.random.seed(10)\n",
    "V = 200\n",
    "init = np.array([0.1, 1., 0.2])\n",
    "ds_2 = tau_leap_symbiosis_mutation(pop_init = init * V, Tmax = 8000000, dt = 1, cg = cg_evo_1, V = V, \n",
    "                                         trait_init = np.array([2, -1]), sigma_rho = 0.1, sigma_nu = 0.1, \n",
    "                                         mutant_rate = 0.001, step = 8000)"
   ]
  },
  {
   "cell_type": "code",
   "execution_count": 36,
   "id": "f126c56c",
   "metadata": {},
   "outputs": [],
   "source": [
    "with open(\"data_evol_traject/ds2_scenario2_exp.pkl\", \"wb\") as f:\n",
    "    pickle.dump(ds_2, f)"
   ]
  },
  {
   "cell_type": "code",
   "execution_count": null,
   "id": "872dd5e2",
   "metadata": {},
   "outputs": [
    {
     "name": "stderr",
     "output_type": "stream",
     "text": [
      "/Users/phuongnguyen/Work/symbiosis_3D_tradeoff/tools_evo_dyn.py:8: RuntimeWarning: invalid value encountered in power\n",
      "  return cg.theta - cg.v * rho**cg.h + (cg.eta * nu * (nu + cg.d) ** cg.g) / cg.nu_max\n"
     ]
    }
   ],
   "source": [
    "np.random.seed(102)\n",
    "V = 100\n",
    "init = np.array([0.1, 1., 0.2])\n",
    "ds_3 = tau_leap_symbiosis_mutation(pop_init = init * V, Tmax = 2000000, dt = 1, cg = cg_evo_1, V = V, \n",
    "                                         trait_init = np.array([2, -0.5]), sigma_rho = 0.5, sigma_nu = 0.2, \n",
    "                                         mutant_rate = 0.001, step = 200)"
   ]
  },
  {
   "cell_type": "code",
   "execution_count": 6,
   "id": "242f6531",
   "metadata": {},
   "outputs": [],
   "source": [
    "dss_3 = turn_raw_dat_to_sorted_arrays(ds_3)"
   ]
  },
  {
   "cell_type": "code",
   "execution_count": 8,
   "id": "0a193633",
   "metadata": {},
   "outputs": [
    {
     "data": {
      "text/plain": [
       "Text(0.5, 1.0, 'Bound reproduction $\\\\tau$')"
      ]
     },
     "execution_count": 8,
     "metadata": {},
     "output_type": "execute_result"
    },
    {
     "data": {
      "image/png": "[encoded data removed]",
      "text/plain": [
       "<Figure size 1500x500 with 3 Axes>"
      ]
     },
     "metadata": {},
     "output_type": "display_data"
    }
   ],
   "source": [
    "popmin_thres = 10\n",
    "fig, axes = plt.subplots(1, 3, figsize = (15, 5))\n",
    "cc = np.where(np.sum(dss_3[\"xF_rho\"] > popmin_thres, axis = 0) > 0)\n",
    "ZZ = dss_3[\"xF_rho\"][:, cc[0]]\n",
    "XX, YY = np.meshgrid(dss_3[\"rho_sort\"][cc[0]], ds_3[\"t\"])\n",
    "axes[0].pcolormesh(XX, YY, ZZ/V, cmap = \"Greys\")\n",
    "axes[0].set_title(r\"Independent reproduction $\\rho$\")\n",
    "cc = np.where(np.sum(dss_3[\"xF_nu\"] > popmin_thres, axis = 0) > 0)\n",
    "ZZ = dss_3[\"xF_nu\"][:, cc[0]]\n",
    "XX, YY = np.meshgrid(dss_3[\"nu_sort\"][cc[0]], ds_3[\"t\"])\n",
    "axes[1].pcolormesh(XX, YY, ZZ, cmap = \"Greys\")\n",
    "axes[1].set_title(r\"Symbiont effect $\\nu$\")\n",
    "cc = np.where(np.sum(dss_3[\"xF_tau\"] > popmin_thres, axis = 0) > 0)\n",
    "ZZ = dss_3[\"xF_tau\"][:, cc[0]]\n",
    "XX, YY = np.meshgrid(dss_3[\"tau_sort\"][cc[0]], ds_3[\"t\"])\n",
    "axes[2].pcolormesh(XX, YY, ZZ, cmap = \"Greys\")\n",
    "axes[2].set_title(r\"Bound reproduction $\\tau$\")"
   ]
  },
  {
   "cell_type": "code",
   "execution_count": 9,
   "id": "479b670d",
   "metadata": {},
   "outputs": [
    {
     "data": {
      "text/plain": [
       "(np.float64(224.0), np.float64(126.0), np.float64(54.0))"
      ]
     },
     "execution_count": 9,
     "metadata": {},
     "output_type": "execute_result"
    }
   ],
   "source": [
    "sum(ds_3[\"x_F\"][-1]), sum(ds_3[\"x_A\"][-1]), sum(ds_3[\"x_H\"][-1])"
   ]
  },
  {
   "cell_type": "code",
   "execution_count": null,
   "id": "8263b388",
   "metadata": {},
   "outputs": [],
   "source": []
  }
 ],
 "metadata": {
  "kernelspec": {
   "display_name": "base",
   "language": "python",
   "name": "python3"
  },
  "language_info": {
   "codemirror_mode": {
    "name": "ipython",
    "version": 3
   },
   "file_extension": ".py",
   "mimetype": "text/x-python",
   "name": "python",
   "nbconvert_exporter": "python",
   "pygments_lexer": "ipython3",
   "version": "3.12.9"
  }
 },
 "nbformat": 4,
 "nbformat_minor": 5
}
