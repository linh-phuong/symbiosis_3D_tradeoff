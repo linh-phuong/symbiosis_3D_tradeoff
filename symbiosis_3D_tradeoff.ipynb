{
 "cells": [
  {
   "cell_type": "code",
   "execution_count": 350,
   "id": "4e2a605d",
   "metadata": {},
   "outputs": [],
   "source": [
    "import numpy as np\n",
    "from scipy.integrate import odeint\n",
    "import copy as cp\n",
    "import matplotlib.pylab as plt\n",
    "from numpy.random import poisson\n",
    "import pandas as pd"
   ]
  },
  {
   "cell_type": "code",
   "execution_count": 351,
   "id": "10a50e71",
   "metadata": {},
   "outputs": [],
   "source": [
    "class Config:\n",
    "    def __init__(self, params):\n",
    "        params = cp.deepcopy(params)\n",
    "        self.__dict__[\"_params\"] = params\n",
    "        for k, v in params.items():\n",
    "            self.__dict__[k] = v\n",
    "\n",
    "    def __getitem__(self, key):\n",
    "        return self._params[key]\n",
    "\n",
    "    def __setitem__(self, key, value):\n",
    "        self.__setattr__(key, value)\n",
    "\n",
    "    def __setattr__(self, key, value):\n",
    "        self._params[key] = value\n",
    "        self.__dict__[key] = value\n",
    "\n",
    "    def clone_me(self):\n",
    "        return Config(self._params)\n",
    "\n",
    "    def update(self, kwargs):\n",
    "        return Config({**self._params, **kwargs})\n",
    "\n",
    "    def _repr_html_(self):\n",
    "        return pd.Series(self._params).to_frame().T._repr_html_()\n",
    "\n",
    "    def getkeys(self):\n",
    "        return list(self._params.keys())"
   ]
  },
  {
   "cell_type": "code",
   "execution_count": 352,
   "id": "e7cc6d28",
   "metadata": {},
   "outputs": [],
   "source": [
    "def system(pop, t, cg):\n",
    "    F, A, H = pop\n",
    "    dFdt = cg.rho * F + cg.tau * A - cg.alpha * F*F - cg.mu*F - cg.beta * F * H\n",
    "    dAdt = cg.r * cg.p * A + cg.beta * F * H - cg.gamma * (A + H) * A - (cg.d + cg.nu) * A\n",
    "    dHdt = cg.r * H + cg.r * (1 - cg.p) * A - cg.gamma * (A + H) * H - cg.d * H - cg.beta * F * H\n",
    "    return [dFdt, dAdt, dHdt]"
   ]
  },
  {
   "cell_type": "code",
   "execution_count": 353,
   "id": "6bc8a634",
   "metadata": {},
   "outputs": [],
   "source": [
    "def sys_birth(pop, cg, V):\n",
    "    F, A, H = pop/V\n",
    "    bF = cg.rho * F + cg.tau * A\n",
    "    bA = cg.r * cg.p * A + cg.beta * F * H\n",
    "    bH = cg.r * H + cg.r * (1 - cg.p) * A\n",
    "    return np.array([bF, bA, bH])\n",
    "\n",
    "def sys_death(pop, cg, V):\n",
    "    F, A, H = pop/V\n",
    "    dF = cg.alpha * F*F + cg.mu*F + cg.beta * F * H\n",
    "    dA = cg.gamma * (A + H) * A + (cg.d + cg.nu) * A\n",
    "    dH = cg.gamma * (A + H) * H + cg.d * H + cg.beta * F * H\n",
    "    return np.array([dF, dA, dH])\n",
    "\n",
    "def tau_leap(init, birth_rate, death_rate, Tmax, dt, cg, V):\n",
    "    state = [init]\n",
    "    time = [0]\n",
    "    tseries = np.arange(0, Tmax - 1, 1)\n",
    "    for i in tseries:\n",
    "        br = birth_rate(init, cg, V)\n",
    "        bn = np.random.poisson(init * np.exp(br * dt))\n",
    "        dr = death_rate(init, cg, V)\n",
    "        dn = np.random.poisson(init * np.exp(dr * dt))\n",
    "        init = init + bn - dn\n",
    "        if all(init > 0):\n",
    "            state.append(init)\n",
    "            time.append(i + 1)\n",
    "        else:\n",
    "            break\n",
    "    return dict(t = time, x = np.array(state))"
   ]
  },
  {
   "cell_type": "code",
   "execution_count": 484,
   "id": "71806af6",
   "metadata": {},
   "outputs": [],
   "source": [
    "def tau(rho, nu, cg):\n",
    "    assert isinstance(rho, np.ndarray), \"mutant rho has to be a numpy array\"\n",
    "    assert isinstance(nu, np.ndarray), \"mutant nu value has to be a numpy array\"\n",
    "    return cg.theta - cg.v * rho**cg.h + (cg.eta * nu * (nu + cg.d)**cg.g)/cg.nu_max\n",
    "\n",
    "def F_birth_mut(pop_F, pop_A, cg, V, rho_mut, nu_mut):\n",
    "    assert isinstance(rho_mut, np.ndarray), \"mutant rho has to be a numpy array\"\n",
    "    assert isinstance(nu_mut, np.ndarray), \"mutant nu value has to be a numpy array\"\n",
    "    assert isinstance(pop_F, np.ndarray), \"F population has to be a numpy array\"\n",
    "    assert isinstance(pop_A, np.ndarray), \"A population has to be a numpy array\"\n",
    "    return rho_mut * pop_F/V + tau(rho_mut, nu_mut, cg) * pop_A/V\n",
    "\n",
    "def A_birth_mut(pop_F, pop_A, pop_H, cg, V):\n",
    "    assert isinstance(pop_F, np.ndarray), \"F population has to be a numpy array\"\n",
    "    assert isinstance(pop_A, np.ndarray), \"A population has to be a numpy array\"\n",
    "    return cg.r * cg.p * pop_A/V + cg.beta * (pop_F/V) * (pop_H/V)\n",
    "\n",
    "def H_birth_mut(pop_A, pop_H, cg, V):\n",
    "    assert isinstance(pop_A, np.ndarray), \"A population has to be a numpy array\"\n",
    "    assert len(pop_H) == 1, \"There is always one host population\"\n",
    "    return cg.r * pop_H/V + cg.r * (1 - cg.p) * pop_A.sum()/V\n",
    "\n",
    "\n",
    "def F_death_mut(pop_F, pop_H, cg, V):\n",
    "    assert isinstance(pop_F, np.ndarray), \"F population has to be a numpy array\"\n",
    "    return cg.alpha * (pop_F/V) * (pop_F.sum())/V + cg.mu * pop_F/V + cg.beta * (pop_F/V) * (pop_H/V)\n",
    "\n",
    "\n",
    "def A_death_mut(pop_F, pop_A, pop_H, cg, V, nu_mut):\n",
    "    assert isinstance(nu_mut, np.ndarray), \"mutant nu value has to be a numpy array\"\n",
    "    assert isinstance(pop_F, np.ndarray), \"F population has to be a numpy array\"\n",
    "    assert isinstance(pop_A, np.ndarray), \"A population has to be a numpy array\"\n",
    "    return cg.gamma * ((pop_A.sum() + pop_H)/V) * pop_A/V + (cg.d + nu_mut) * pop_A/V\n",
    "\n",
    "def H_death_mut(pop_F, pop_A, pop_H, cg, V):\n",
    "    assert isinstance(pop_F, np.ndarray), \"F population has to be a numpy array\"\n",
    "    assert isinstance(pop_A, np.ndarray), \"A population has to be a numpy array\"\n",
    "    assert len(pop_H) == 1, \"There is always one host population\"\n",
    "    return cg.gamma * ((pop_A.sum() + pop_H)/V) * pop_H/V + cg.d * pop_H/V + cg.beta * (pop_F.sum()/V) * (pop_H/V)\n",
    "\n",
    "def tau_leap_symbiosis_mutation(pop_init, Tmax, dt, cg, V, trait_init, sigma_rho, sigma_nu, mutant_rate):\n",
    "    F_state = [pop_init[0:1]]\n",
    "    A_state = [pop_init[1:2]]\n",
    "    H_state = [pop_init[2:3]]\n",
    "    rho_val = [trait_init[0:1]]\n",
    "    nu_val = [trait_init[1:2]]\n",
    "    tau_val = [tau(trait_init[0:1], trait_init[1:2], cg)]\n",
    "    time = [0]\n",
    "    for i in range(Tmax):\n",
    "        if any(F_state[i] > 0) and any(H_state[i] > 0):\n",
    "            # if any population number is negative, set it to zero\n",
    "            F_state[i] = np.where(F_state[i] > 0, F_state[i], 0)\n",
    "            A_state[i] = np.where(A_state[i] > 0, A_state[i], 0)\n",
    "            H_state[i] = np.where(H_state[i] > 0, H_state[i], 0)\n",
    "            br = A_birth_mut(F_state[i], A_state[i], H_state[i], cg, V) # rate\n",
    "            dr = A_death_mut(F_state[i], A_state[i], H_state[i], cg, V, nu_val[i]) # rate\n",
    "            A_change = poisson(A_state[i] * np.exp(br * dt)) - poisson(A_state[i] * np.exp(dr * dt)) # intergers\n",
    "            br = H_birth_mut(A_state[i], H_state[i], cg, V) # rate\n",
    "            dr = H_death_mut(F_state[i], A_state[i], H_state[i], cg, V) # rate\n",
    "            H_change = poisson(H_state[i] * np.exp(br * dt)) - poisson(H_state[i] * np.exp(dr * dt)) # intergers\n",
    "\n",
    "            br = F_birth_mut(F_state[i], A_state[i], cg, V, rho_val[i], nu_val[i]) # rate\n",
    "            dr = F_death_mut(F_state[i], H_state[i], cg, V) # rate\n",
    "            F_change = poisson(F_state[i] * np.exp(br * dt)) - poisson(F_state[i] * np.exp(dr * dt)) # intergers\n",
    "            # Number of mutants arise with each parent\n",
    "            new_mut_arise = np.random.binomial(F_change * (F_change > 0), mutant_rate)\n",
    "            ismutate = new_mut_arise > 0\n",
    "            # arised mutants with corresponding parents' value\n",
    "            rh = np.random.normal(rho_val[i], sigma_rho) * ismutate\n",
    "            nn = np.random.normal(nu_val[i], sigma_nu) * ismutate\n",
    "            tt = tau(rh, nn, cg)\n",
    "            # Only keep the trait values if they are within range\n",
    "            nn_cond = (-cg.d <= nn) * (nn <= cg.nu_max)\n",
    "            tt_cond = tt >= 0\n",
    "            mut_cond = nn_cond * tt_cond # final conditions are the combination of conditions for both nu and rho\n",
    "            rh = rh * mut_cond\n",
    "            nn = nn * mut_cond\n",
    "            tt = tt * mut_cond\n",
    "            # Even if new mutants arise, if the traits is not within range, it does not count\n",
    "            new_mut_arise = new_mut_arise * mut_cond\n",
    "            # Change in F population after mutation\n",
    "            F_change_after_mut = F_change - new_mut_arise\n",
    "            if any(ismutate * mut_cond):\n",
    "                new_mut_nb = new_mut_arise[new_mut_arise > 0]\n",
    "                new_rho = rh[rh != 0]\n",
    "                new_nu = nn[nn != 0] \n",
    "                new_tau = tau(new_rho, new_nu, cg)\n",
    "                A_new = np.zeros(len(new_mut_nb))\n",
    "            else:\n",
    "                new_mut_nb, A_new = (), ()\n",
    "                new_rho, new_nu, new_tau = (), (), ()          \n",
    "            # Update values on next time step\n",
    "            A_state.append(np.concatenate((A_state[i] + A_change, A_new), axis = None))\n",
    "            H_state.append(H_state[i] + H_change)\n",
    "            F_state.append(np.concatenate((F_state[i] + F_change_after_mut, new_mut_nb), axis = None))\n",
    "            rho_val.append(np.concatenate((rho_val[i], new_rho), axis = None))\n",
    "            nu_val.append(np.concatenate((nu_val[i], new_nu), axis = None))\n",
    "            tau_val.append(np.concatenate((tau_val[i], new_tau), axis = None))\n",
    "            time.append(i + 1)\n",
    "        else:\n",
    "            break\n",
    "    return dict(t = time, x_F = F_state, x_A = A_state, x_H = H_state, rho = rho_val, nu = nu_val, tau = tau_val)\n",
    "\n",
    "def turn_raw_dat_to_arrays(dat):\n",
    "    xF_arr, xA_arr = [], []\n",
    "    r_arr, n_arr, t_arr = [], [], []\n",
    "    x_F, x_A = dat[\"x_F\"], dat[\"x_A\"]\n",
    "    rho, nu, tau = dat[\"rho\"], dat[\"nu\"], dat[\"tau\"]\n",
    "    assert (len(x_F[-1]) == len(x_A[-1]) == len(rho[-1]) == len(nu[-1]) == len(tau[-1]))\n",
    "    tt = len(x_F[-1])\n",
    "    Tmax = dat[\"t\"][-1]\n",
    "    for i in range(Tmax):\n",
    "        assert (len(x_F[i]) == len(x_A[i]) == len(rho[i]) == len(nu[i]) == len(tau[i]))\n",
    "        cc = tt - len(x_F[i])\n",
    "        xx = np.concatenate((x_F[i], np.zeros(cc)))\n",
    "        xF_arr.append(xx)\n",
    "        xx = np.concatenate((x_A[i], np.zeros(cc)))\n",
    "        xA_arr.append(xx)\n",
    "        xx = np.concatenate((rho[i], np.zeros(cc)))\n",
    "        r_arr.append(xx)\n",
    "        xx = np.concatenate((nu[i], np.zeros(cc)))\n",
    "        n_arr.append(xx)\n",
    "        xx = np.concatenate((tau[i], np.zeros(cc)))\n",
    "        t_arr.append(xx)\n",
    "    r_mesh = np.tile(rho[-1], (Tmax, 1))\n",
    "    n_mesh = np.tile(nu[-1], (Tmax, 1)) \n",
    "    t_mesh = np.tile(tau[-1], (Tmax, 1))\n",
    "    time_mesh =  np.tile(dat[\"t\"][:-1], (tt, 1))\n",
    "    return dict(t = dat[\"t\"], x_F = np.array(xF_arr), x_A = np.array(xA_arr), x_H = dat[\"x_H\"], \n",
    "                rho = np.array(r_arr), nu = np.array(n_arr), tau = np.array(t_arr),\n",
    "                rho_mesh = r_mesh, nu_mesh = n_mesh, tau_mesh = t_mesh, time_mesh = time_mesh.T)"
   ]
  },
  {
   "cell_type": "code",
   "execution_count": 485,
   "id": "78fbc83f",
   "metadata": {},
   "outputs": [],
   "source": [
    "cg_eco = Config(dict(mu = 1.4, alpha = 1.2, gamma = 1.23, p = 0.1, beta = 2.1, \n",
    "                     r = 2.3, d = 1.3, rho = 3.6, tau = 1.1008, nu = -0.2))\n",
    "init = np.array([0.1, 1., 0.2])\n",
    "tseries = np.linspace(0, 50, 200)"
   ]
  },
  {
   "cell_type": "code",
   "execution_count": 486,
   "id": "f07c48a7",
   "metadata": {},
   "outputs": [
    {
     "data": {
      "text/plain": [
       "array([1.56235355, 0.56853875, 0.34559794])"
      ]
     },
     "execution_count": 486,
     "metadata": {},
     "output_type": "execute_result"
    },
    {
     "data": {
      "image/png": "[encoded data removed]",
      "text/plain": [
       "<Figure size 432x288 with 1 Axes>"
      ]
     },
     "metadata": {
      "needs_background": "light"
     },
     "output_type": "display_data"
    }
   ],
   "source": [
    "dyn = odeint(system, init, tseries, args=(cg_eco,))\n",
    "plt.plot(dyn)\n",
    "dyn[-1,]"
   ]
  },
  {
   "cell_type": "code",
   "execution_count": 487,
   "id": "b98caa8f",
   "metadata": {},
   "outputs": [
    {
     "data": {
      "text/plain": [
       "()"
      ]
     },
     "execution_count": 487,
     "metadata": {},
     "output_type": "execute_result"
    },
    {
     "data": {
      "image/png": "[encoded data removed]",
      "text/plain": [
       "<Figure size 432x288 with 1 Axes>"
      ]
     },
     "metadata": {
      "needs_background": "light"
     },
     "output_type": "display_data"
    }
   ],
   "source": [
    "np.random.seed(1)\n",
    "V = 5000\n",
    "xx = tau_leap(init * V, sys_birth, sys_death, 300, 0.1, cg_eco, V)\n",
    "plt.plot(xx['x']/V)\n",
    "np.shape(xx)"
   ]
  },
  {
   "cell_type": "code",
   "execution_count": 488,
   "id": "571ee781",
   "metadata": {},
   "outputs": [],
   "source": [
    "cg_evo =  Config(dict(eta = 1., g = 0.312, mu = 1.4, alpha = 1.2, gamma = 1.23, p = 0.1, beta = 2.1, \n",
    "                      r = 2.3, d = 1.3, theta = 8., v = 1., h = 1.5, nu_max = 3))"
   ]
  },
  {
   "cell_type": "code",
   "execution_count": 489,
   "id": "623a8b5f",
   "metadata": {},
   "outputs": [
    {
     "data": {
      "text/plain": [
       "array([1.10080137])"
      ]
     },
     "execution_count": 489,
     "metadata": {},
     "output_type": "execute_result"
    }
   ],
   "source": [
    "tau(np.array([3.6]), np.array([-0.2]), cg_evo)"
   ]
  },
  {
   "cell_type": "code",
   "execution_count": 490,
   "id": "47654f6d",
   "metadata": {},
   "outputs": [],
   "source": [
    "np.random.seed(1)\n",
    "V = 5000\n",
    "dyn_stoc = tau_leap_symbiosis_mutation(pop_init = init * V, Tmax = 200, dt = 0.1, cg = cg_evo, V = V, \n",
    "                                       trait_init = np.array([3.6, -0.2]), sigma_rho = 0.5, sigma_nu = 0.3, \n",
    "                                       mutant_rate = 0)"
   ]
  },
  {
   "cell_type": "code",
   "execution_count": 491,
   "id": "a6841514",
   "metadata": {},
   "outputs": [
    {
     "data": {
      "text/plain": [
       "[<matplotlib.lines.Line2D at 0x7f62b955a620>]"
      ]
     },
     "execution_count": 491,
     "metadata": {},
     "output_type": "execute_result"
    },
    {
     "data": {
      "image/png": "[encoded data removed]",
      "text/plain": [
       "<Figure size 432x288 with 1 Axes>"
      ]
     },
     "metadata": {
      "needs_background": "light"
     },
     "output_type": "display_data"
    }
   ],
   "source": [
    "plt.plot(np.array(dyn_stoc[\"x_F\"])/V)\n",
    "plt.plot(np.array(dyn_stoc[\"x_A\"])/V)\n",
    "plt.plot(np.array(dyn_stoc[\"x_H\"])/V)"
   ]
  },
  {
   "cell_type": "code",
   "execution_count": 492,
   "id": "f0402ded",
   "metadata": {},
   "outputs": [],
   "source": [
    "cg_evo_1 =  Config(dict(eta = 1., g = 0.312, mu = 1.4, alpha = 1.2, gamma = 1.23, p = 0.1, beta = 2.1,\n",
    "                        r = 2.3, d = 1.3, theta = 8., v = 1., h = 1.5, nu_max = 3))"
   ]
  },
  {
   "cell_type": "code",
   "execution_count": 513,
   "id": "8a2bd9a8",
   "metadata": {},
   "outputs": [],
   "source": [
    "np.random.seed(1)\n",
    "V = 5000\n",
    "dyn_stoc_1 = tau_leap_symbiosis_mutation(pop_init = init * V, Tmax = 200, dt = 0.1, cg = cg_evo, V = V, \n",
    "                                         trait_init = np.array([3.6, -0.2]), sigma_rho = 0.5, sigma_nu = 0.1, \n",
    "                                         mutant_rate = 0.0001)"
   ]
  },
  {
   "cell_type": "code",
   "execution_count": 514,
   "id": "fee5f338",
   "metadata": {},
   "outputs": [],
   "source": [
    "dyn_stoc_arr_1 = turn_raw_dat_to_arrays(dyn_stoc_1)"
   ]
  },
  {
   "cell_type": "code",
   "execution_count": 515,
   "id": "95260184",
   "metadata": {},
   "outputs": [
    {
     "data": {
      "text/plain": [
       "((200, 3), (200, 3), (200, 3))"
      ]
     },
     "execution_count": 515,
     "metadata": {},
     "output_type": "execute_result"
    }
   ],
   "source": [
    "dyn_stoc_arr_1[\"rho_mesh\"].shape, dyn_stoc_arr_1[\"time_mesh\"].shape, dyn_stoc_arr_1[\"x_A\"].shape"
   ]
  },
  {
   "cell_type": "code",
   "execution_count": 516,
   "id": "5dd9c8ae",
   "metadata": {},
   "outputs": [
    {
     "data": {
      "text/plain": [
       "<matplotlib.colorbar.Colorbar at 0x7f62b89a5e40>"
      ]
     },
     "execution_count": 516,
     "metadata": {},
     "output_type": "execute_result"
    },
    {
     "data": {
      "image/png": "[encoded data removed]",
      "text/plain": [
       "<Figure size 432x288 with 2 Axes>"
      ]
     },
     "metadata": {
      "needs_background": "light"
     },
     "output_type": "display_data"
    }
   ],
   "source": [
    "plt.contourf(dyn_stoc_arr_1[\"rho_mesh\"], dyn_stoc_arr_1[\"time_mesh\"], \n",
    "             dyn_stoc_arr_1[\"x_A\"]/V, cmap = \"Greys\")\n",
    "plt.colorbar()"
   ]
  },
  {
   "cell_type": "code",
   "execution_count": null,
   "id": "f6b0a458",
   "metadata": {},
   "outputs": [],
   "source": []
  }
 ],
 "metadata": {
  "kernelspec": {
   "display_name": "pnguyen",
   "language": "python",
   "name": "python3"
  },
  "language_info": {
   "codemirror_mode": {
    "name": "ipython",
    "version": 3
   },
   "file_extension": ".py",
   "mimetype": "text/x-python",
   "name": "python",
   "nbconvert_exporter": "python",
   "pygments_lexer": "ipython3",
   "version": "3.10.4"
  }
 },
 "nbformat": 4,
 "nbformat_minor": 5
}
